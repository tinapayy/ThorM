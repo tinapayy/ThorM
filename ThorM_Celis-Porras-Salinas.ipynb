{
 "cells": [
  {
   "cell_type": "markdown",
   "metadata": {
    "id": "Vkiqn5yNRvpY"
   },
   "source": [
    "## ThorM: A Machine Learning Approach for Classifying Convective Storm Risk Levels Using Climatological Data in Metro Manila, Philippines\n",
    "\n",
    "### Authors\n",
    "- Kristina V. Celis\n",
    "- Sean Alexander P. Porras\n",
    "- Christian Justin J. Salinas\n"
   ]
  },
  {
   "cell_type": "code",
   "execution_count": 1,
   "metadata": {
    "id": "yMrSpb3ffi9p"
   },
   "outputs": [],
   "source": [
    "# Import necessary libraries\n",
    "import numpy as np\n",
    "import pandas as pd\n",
    "import matplotlib.pyplot as plt\n",
    "import seaborn as sns\n",
    "from sklearn.preprocessing import LabelEncoder, StandardScaler\n",
    "from sklearn.feature_selection import mutual_info_classif, RFE\n",
    "from sklearn.model_selection import train_test_split\n",
    "from sklearn.ensemble import RandomForestClassifier, GradientBoostingClassifier\n",
    "from sklearn.tree import DecisionTreeClassifier\n",
    "from sklearn.svm import SVC\n",
    "from sklearn.neighbors import KNeighborsClassifier\n",
    "from sklearn.metrics import (\n",
    "    classification_report,\n",
    "    confusion_matrix,\n",
    "    roc_auc_score,\n",
    "    precision_score,\n",
    "    recall_score,\n",
    "    f1_score,\n",
    "    accuracy_score\n",
    ")\n",
    "from collections import defaultdict\n",
    "from sklearn.preprocessing import PowerTransformer\n",
    "from imblearn.over_sampling import SMOTE\n",
    "from sklearn.model_selection import GridSearchCV\n",
    "from collections import defaultdict\n",
    "from xgboost import XGBClassifier"
   ]
  },
  {
   "cell_type": "markdown",
   "metadata": {
    "id": "j648ZGC2gtFH"
   },
   "source": [
    "Upload CSV to Google Colab from Drive (commented out for local copy run)"
   ]
  },
  {
   "cell_type": "code",
   "execution_count": 2,
   "metadata": {
    "id": "fXM0Ta8-gxtw"
   },
   "outputs": [],
   "source": [
    "# from google.colab import drive\n",
    "# drive.mount('/content/drive/')"
   ]
  },
  {
   "cell_type": "code",
   "execution_count": 3,
   "metadata": {
    "id": "BmTPlyaghDO2"
   },
   "outputs": [],
   "source": [
    "# Load the dataset\n",
    "file_path = '/content/drive/Shared drives/ThorM/Google Colab/Datasets/Quezon-City-2020-10-01-to-2024-10-01.csv'\n",
    "# data_raw = pd.read_csv(file_path)\n",
    "\n",
    "# File paths\n",
    "file_path = '/content/drive/Shared drives/ThorM/Google Colab/Datasets/Quezon-City-2020-10-01-to-2024-10-01.csv'\n",
    "output_path = '/content/drive/Shared drives/ThorM/Google Colab/Datasets/EDA_dataset.csv'\n",
    "\n",
    "# Load dataset\n",
    "# data = pd.read_csv(file_path)\n",
    "\n",
    "# Create a deep copy of the original data\n",
    "# original_data = data.copy()\n",
    "\n",
    "# Load dataset for local copy\n",
    "data = pd.read_csv(\"Quezon-City-2020-10-01-to-2024-10-01.csv\")\n",
    "original_data = data.copy()"
   ]
  },
  {
   "cell_type": "markdown",
   "metadata": {
    "id": "ji9jGJ4ls5yQ"
   },
   "source": [
    "## DATASET OVERVIEW"
   ]
  },
  {
   "cell_type": "code",
   "execution_count": 4,
   "metadata": {
    "colab": {
     "base_uri": "https://localhost:8080/"
    },
    "executionInfo": {
     "elapsed": 3,
     "status": "ok",
     "timestamp": 1733399948674,
     "user": {
      "displayName": "Kristina Celis",
      "userId": "03677641251873086767"
     },
     "user_tz": -480
    },
    "id": "BMBbathTlguZ",
    "outputId": "9b1b8dd4-bd94-4617-c9f7-81724efb4c3f"
   },
   "outputs": [
    {
     "name": "stdout",
     "output_type": "stream",
     "text": [
      "First few rows of the dataset:\n",
      "          name   datetime  tempmax  tempmin  temp  feelslikemax  feelslikemin  \\\n",
      "0  quezon city  10/1/2020     33.4     25.2  29.1          42.5          25.2   \n",
      "1  quezon city  10/2/2020     32.9     25.2  28.4          40.6          25.2   \n",
      "2  quezon city  10/3/2020     32.7     25.9  28.4          39.6          25.9   \n",
      "3  quezon city  10/4/2020     33.9     26.1  28.8          40.3          26.1   \n",
      "4  quezon city  10/5/2020     34.0     25.3  29.1          52.6          25.3   \n",
      "\n",
      "   feelslike   dew  humidity  ...  solarenergy  uvindex  severerisk  \\\n",
      "0       34.3  25.1      80.1  ...         14.4        8         NaN   \n",
      "1       32.1  24.6      80.6  ...         16.4        7         NaN   \n",
      "2       32.4  24.9      82.2  ...         19.3        9         NaN   \n",
      "3       33.2  24.8      80.0  ...         21.9        9         NaN   \n",
      "4       33.8  24.6      77.3  ...         21.3        9         NaN   \n",
      "\n",
      "               sunrise               sunset  moonphase  \\\n",
      "0  2020-10-01T05:45:24  2020-10-01T17:45:18       0.48   \n",
      "1  2020-10-02T05:45:29  2020-10-02T17:44:34       0.50   \n",
      "2  2020-10-03T05:45:35  2020-10-03T17:43:51       0.54   \n",
      "3  2020-10-04T05:45:40  2020-10-04T17:43:08       0.58   \n",
      "4  2020-10-05T05:45:46  2020-10-05T17:42:26       0.61   \n",
      "\n",
      "               conditions                                        description  \\\n",
      "0  Rain, Partially cloudy        Partly cloudy throughout the day with rain.   \n",
      "1  Rain, Partially cloudy        Partly cloudy throughout the day with rain.   \n",
      "2  Rain, Partially cloudy        Partly cloudy throughout the day with rain.   \n",
      "3  Rain, Partially cloudy  Partly cloudy throughout the day with rain in ...   \n",
      "4  Rain, Partially cloudy        Becoming cloudy in the afternoon with rain.   \n",
      "\n",
      "   icon                                           stations  \n",
      "0  rain  98429099999,C6CX3,RPLC,98327099999,98428099999...  \n",
      "1  rain  98429099999,C6CX3,RPLC,98327099999,98428099999...  \n",
      "2  rain  98432099999,98429099999,C6CX3,98428099999,ZCBU...  \n",
      "3  rain  98429099999,C6CX3,RPLC,98327099999,98428099999...  \n",
      "4  rain  98429099999,C6CX3,RPLC,98327099999,98428099999...  \n",
      "\n",
      "[5 rows x 33 columns]\n",
      "### Dataset Information ###\n",
      "<class 'pandas.core.frame.DataFrame'>\n",
      "RangeIndex: 1462 entries, 0 to 1461\n",
      "Data columns (total 33 columns):\n",
      " #   Column            Non-Null Count  Dtype  \n",
      "---  ------            --------------  -----  \n",
      " 0   name              1462 non-null   object \n",
      " 1   datetime          1462 non-null   object \n",
      " 2   tempmax           1462 non-null   float64\n",
      " 3   tempmin           1462 non-null   float64\n",
      " 4   temp              1462 non-null   float64\n",
      " 5   feelslikemax      1462 non-null   float64\n",
      " 6   feelslikemin      1462 non-null   float64\n",
      " 7   feelslike         1462 non-null   float64\n",
      " 8   dew               1462 non-null   float64\n",
      " 9   humidity          1462 non-null   float64\n",
      " 10  precip            1462 non-null   float64\n",
      " 11  precipprob        1462 non-null   int64  \n",
      " 12  precipcover       1462 non-null   float64\n",
      " 13  preciptype        1088 non-null   object \n",
      " 14  snow              1462 non-null   int64  \n",
      " 15  snowdepth         1462 non-null   int64  \n",
      " 16  windgust          1462 non-null   float64\n",
      " 17  windspeed         1462 non-null   float64\n",
      " 18  winddir           1462 non-null   float64\n",
      " 19  sealevelpressure  1462 non-null   float64\n",
      " 20  cloudcover        1462 non-null   float64\n",
      " 21  visibility        1462 non-null   float64\n",
      " 22  solarradiation    1462 non-null   float64\n",
      " 23  solarenergy       1462 non-null   float64\n",
      " 24  uvindex           1462 non-null   int64  \n",
      " 25  severerisk        996 non-null    float64\n",
      " 26  sunrise           1462 non-null   object \n",
      " 27  sunset            1462 non-null   object \n",
      " 28  moonphase         1462 non-null   float64\n",
      " 29  conditions        1462 non-null   object \n",
      " 30  description       1462 non-null   object \n",
      " 31  icon              1462 non-null   object \n",
      " 32  stations          1462 non-null   object \n",
      "dtypes: float64(20), int64(4), object(9)\n",
      "memory usage: 377.1+ KB\n",
      "\n",
      "### Dataset Description ###\n",
      "           tempmax      tempmin         temp  feelslikemax  feelslikemin  \\\n",
      "count  1462.000000  1462.000000  1462.000000   1462.000000   1462.000000   \n",
      "mean     32.289603    24.886320    28.400547     38.353762     25.215185   \n",
      "std       2.013082     1.393769     1.430986      3.759911      2.139163   \n",
      "min      25.700000    19.800000    24.500000     25.700000     19.800000   \n",
      "25%      31.000000    24.100000    27.400000     35.825000     24.100000   \n",
      "50%      32.100000    25.000000    28.400000     39.000000     25.000000   \n",
      "75%      33.800000    25.800000    29.300000     40.775000     25.800000   \n",
      "max      38.400000    28.900000    32.800000     58.500000     34.100000   \n",
      "\n",
      "         feelslike          dew     humidity       precip   precipprob  ...  \\\n",
      "count  1462.000000  1462.000000  1462.000000  1462.000000  1462.000000  ...   \n",
      "mean     31.797811    23.416895    75.580301     7.062394    67.852257  ...   \n",
      "std       3.025395     1.824454     7.949643    18.856027    46.720337  ...   \n",
      "min      24.500000    17.100000    56.100000     0.000000     0.000000  ...   \n",
      "25%      29.500000    22.200000    69.000000     0.000000     0.000000  ...   \n",
      "50%      31.900000    23.900000    76.200000     0.188000   100.000000  ...   \n",
      "75%      34.100000    24.800000    81.200000     4.895250   100.000000  ...   \n",
      "max      39.800000    26.500000    97.300000   363.648000   100.000000  ...   \n",
      "\n",
      "         windspeed      winddir  sealevelpressure   cloudcover   visibility  \\\n",
      "count  1462.000000  1462.000000       1462.000000  1462.000000  1462.000000   \n",
      "mean     21.681190   152.752326       1010.091382    63.470999     9.472572   \n",
      "std       8.224807    88.671344          2.585598    18.253184     0.789220   \n",
      "min       7.900000     0.000000        995.000000    23.400000     5.900000   \n",
      "25%      16.600000    86.450000       1008.700000    49.125000     9.200000   \n",
      "50%      20.200000   116.550000       1010.100000    63.900000     9.500000   \n",
      "75%      24.900000   246.175000       1011.600000    77.875000     9.800000   \n",
      "max     112.200000   357.600000       1018.600000   100.000000    12.500000   \n",
      "\n",
      "       solarradiation  solarenergy      uvindex  severerisk    moonphase  \n",
      "count     1462.000000  1462.000000  1462.000000  996.000000  1462.000000  \n",
      "mean       133.129207    11.500479     5.744186   25.266064     0.485417  \n",
      "std         49.048478     4.249426     1.744126   17.265427     0.288475  \n",
      "min          5.500000     0.300000     1.000000   10.000000     0.000000  \n",
      "25%         96.850000     8.400000     5.000000   10.000000     0.250000  \n",
      "50%        130.600000    11.300000     6.000000   30.000000     0.500000  \n",
      "75%        166.925000    14.500000     7.000000   30.000000     0.750000  \n",
      "max        326.300000    28.200000    10.000000   75.000000     0.980000  \n",
      "\n",
      "[8 rows x 24 columns]\n",
      "\n",
      "### Missing Values Summary ###\n",
      "name                  0\n",
      "datetime              0\n",
      "tempmax               0\n",
      "tempmin               0\n",
      "temp                  0\n",
      "feelslikemax          0\n",
      "feelslikemin          0\n",
      "feelslike             0\n",
      "dew                   0\n",
      "humidity              0\n",
      "precip                0\n",
      "precipprob            0\n",
      "precipcover           0\n",
      "preciptype          374\n",
      "snow                  0\n",
      "snowdepth             0\n",
      "windgust              0\n",
      "windspeed             0\n",
      "winddir               0\n",
      "sealevelpressure      0\n",
      "cloudcover            0\n",
      "visibility            0\n",
      "solarradiation        0\n",
      "solarenergy           0\n",
      "uvindex               0\n",
      "severerisk          466\n",
      "sunrise               0\n",
      "sunset                0\n",
      "moonphase             0\n",
      "conditions            0\n",
      "description           0\n",
      "icon                  0\n",
      "stations              0\n",
      "dtype: int64\n",
      "\n",
      "### Summary Statistics for 'severerisk' ###\n",
      "count    996.000000\n",
      "mean      25.266064\n",
      "std       17.265427\n",
      "min       10.000000\n",
      "25%       10.000000\n",
      "50%       30.000000\n",
      "75%       30.000000\n",
      "max       75.000000\n",
      "Name: severerisk, dtype: float64\n"
     ]
    }
   ],
   "source": [
    "# Check first few rows\n",
    "print(\"First few rows of the dataset:\")\n",
    "print(data.head())\n",
    "\n",
    "# Display basic information about the dataset\n",
    "print(\"### Dataset Information ###\")\n",
    "data.info()\n",
    "\n",
    "print(\"\\n### Dataset Description ###\")\n",
    "print(data.describe())\n",
    "\n",
    "# Check for missing values in the dataset\n",
    "print(\"\\n### Missing Values Summary ###\")\n",
    "print(data.isnull().sum())\n",
    "\n",
    "# Summary statistics for the target column 'severerisk'\n",
    "print(\"\\n### Summary Statistics for 'severerisk' ###\")\n",
    "print(data['severerisk'].describe())"
   ]
  },
  {
   "cell_type": "code",
   "execution_count": 5,
   "metadata": {
    "colab": {
     "base_uri": "https://localhost:8080/",
     "height": 1000
    },
    "executionInfo": {
     "elapsed": 1033,
     "status": "ok",
     "timestamp": 1733399949705,
     "user": {
      "displayName": "Kristina Celis",
      "userId": "03677641251873086767"
     },
     "user_tz": -480
    },
    "id": "4e22Gj_QltLh",
    "outputId": "e8fdf55c-8978-43b4-8675-71e272cd86c0"
   },
   "outputs": [
    {
     "data": {
      "image/png": "[encoded data removed]",
      "text/plain": [
       "<Figure size 640x480 with 1 Axes>"
      ]
     },
     "metadata": {},
     "output_type": "display_data"
    },
    {
     "name": "stdout",
     "output_type": "stream",
     "text": [
      "\n",
      "### Rows with Missing Values in 'severerisk' ###\n",
      "            name   datetime  tempmax  tempmin  temp  feelslikemax  \\\n",
      "0    quezon city  10/1/2020     33.4     25.2  29.1          42.5   \n",
      "1    quezon city  10/2/2020     32.9     25.2  28.4          40.6   \n",
      "2    quezon city  10/3/2020     32.7     25.9  28.4          39.6   \n",
      "3    quezon city  10/4/2020     33.9     26.1  28.8          40.3   \n",
      "4    quezon city  10/5/2020     34.0     25.3  29.1          52.6   \n",
      "..           ...        ...      ...      ...   ...           ...   \n",
      "461  quezon city   1/5/2022     31.0     23.4  26.7          33.0   \n",
      "462  quezon city   1/6/2022     28.9     23.2  26.3          32.1   \n",
      "463  quezon city   1/7/2022     31.0     22.3  26.5          33.7   \n",
      "464  quezon city   1/8/2022     31.0     23.1  26.9          35.5   \n",
      "465  quezon city   1/9/2022     32.0     23.0  27.2          35.8   \n",
      "\n",
      "     feelslikemin  feelslike   dew  humidity  ...  solarenergy  uvindex  \\\n",
      "0            25.2       34.3  25.1      80.1  ...         14.4        8   \n",
      "1            25.2       32.1  24.6      80.6  ...         16.4        7   \n",
      "2            25.9       32.4  24.9      82.2  ...         19.3        9   \n",
      "3            26.1       33.2  24.8      80.0  ...         21.9        9   \n",
      "4            25.3       33.8  24.6      77.3  ...         21.3        9   \n",
      "..            ...        ...   ...       ...  ...          ...      ...   \n",
      "461          23.4       27.5  20.0      67.5  ...         12.0        7   \n",
      "462          23.2       27.1  20.8      72.0  ...          6.3        3   \n",
      "463          22.3       27.4  20.0      68.4  ...         13.5        6   \n",
      "464          23.1       28.4  21.4      72.3  ...          8.8        5   \n",
      "465          23.0       29.0  22.4      75.7  ...         13.6        6   \n",
      "\n",
      "     severerisk              sunrise               sunset  moonphase  \\\n",
      "0           NaN  2020-10-01T05:45:24  2020-10-01T17:45:18       0.48   \n",
      "1           NaN  2020-10-02T05:45:29  2020-10-02T17:44:34       0.50   \n",
      "2           NaN  2020-10-03T05:45:35  2020-10-03T17:43:51       0.54   \n",
      "3           NaN  2020-10-04T05:45:40  2020-10-04T17:43:08       0.58   \n",
      "4           NaN  2020-10-05T05:45:46  2020-10-05T17:42:26       0.61   \n",
      "..          ...                  ...                  ...        ...   \n",
      "461         NaN  2022-01-05T06:22:24  2022-01-05T17:39:48       0.08   \n",
      "462         NaN  2022-01-06T06:22:43  2022-01-06T17:40:24       0.11   \n",
      "463         NaN  2022-01-07T06:23:00  2022-01-07T17:40:59       0.14   \n",
      "464         NaN  2022-01-08T06:23:16  2022-01-08T17:41:34       0.18   \n",
      "465         NaN  2022-01-09T06:23:32  2022-01-09T17:42:09       0.21   \n",
      "\n",
      "                 conditions  \\\n",
      "0    Rain, Partially cloudy   \n",
      "1    Rain, Partially cloudy   \n",
      "2    Rain, Partially cloudy   \n",
      "3    Rain, Partially cloudy   \n",
      "4    Rain, Partially cloudy   \n",
      "..                      ...   \n",
      "461        Partially cloudy   \n",
      "462        Partially cloudy   \n",
      "463        Partially cloudy   \n",
      "464  Rain, Partially cloudy   \n",
      "465        Partially cloudy   \n",
      "\n",
      "                                           description               icon  \\\n",
      "0          Partly cloudy throughout the day with rain.               rain   \n",
      "1          Partly cloudy throughout the day with rain.               rain   \n",
      "2          Partly cloudy throughout the day with rain.               rain   \n",
      "3    Partly cloudy throughout the day with rain in ...               rain   \n",
      "4          Becoming cloudy in the afternoon with rain.               rain   \n",
      "..                                                 ...                ...   \n",
      "461                  Partly cloudy throughout the day.  partly-cloudy-day   \n",
      "462                  Partly cloudy throughout the day.  partly-cloudy-day   \n",
      "463                  Partly cloudy throughout the day.  partly-cloudy-day   \n",
      "464  Partly cloudy throughout the day with late aft...               rain   \n",
      "465                  Partly cloudy throughout the day.  partly-cloudy-day   \n",
      "\n",
      "                                              stations  \n",
      "0    98429099999,C6CX3,RPLC,98327099999,98428099999...  \n",
      "1    98429099999,C6CX3,RPLC,98327099999,98428099999...  \n",
      "2    98432099999,98429099999,C6CX3,98428099999,ZCBU...  \n",
      "3    98429099999,C6CX3,RPLC,98327099999,98428099999...  \n",
      "4    98429099999,C6CX3,RPLC,98327099999,98428099999...  \n",
      "..                                                 ...  \n",
      "461  98429099999,C6CX3,98428099999,RPLL,C6BR3,98430...  \n",
      "462  98429099999,C6CX3,98428099999,RPLL,C6BR3,98430...  \n",
      "463  98429099999,C6CX3,98428099999,RPLL,C6BR3,98430...  \n",
      "464  98429099999,C6CX3,98428099999,RPLL,C6BR3,98430...  \n",
      "465  98429099999,C6CX3,98428099999,RPLL,C6BR3,98430...  \n",
      "\n",
      "[466 rows x 33 columns]\n"
     ]
    }
   ],
   "source": [
    "# Visualize missing values with a heatmap\n",
    "sns.heatmap(data.isnull(), cbar=False, cmap='viridis')\n",
    "plt.title('Missing Values Heatmap')\n",
    "plt.show()\n",
    "\n",
    "# Display rows with missing values in the target column 'severerisk'\n",
    "print(\"\\n### Rows with Missing Values in 'severerisk' ###\")\n",
    "print(data[data['severerisk'].isnull()])"
   ]
  },
  {
   "cell_type": "markdown",
   "metadata": {
    "id": "1jH6wtr5GiUM"
   },
   "source": [
    "## Handling Missing Values of 'severerisk' & 'preciptype'"
   ]
  },
  {
   "cell_type": "code",
   "execution_count": 6,
   "metadata": {
    "colab": {
     "base_uri": "https://localhost:8080/"
    },
    "executionInfo": {
     "elapsed": 6,
     "status": "ok",
     "timestamp": 1733399949705,
     "user": {
      "displayName": "Kristina Celis",
      "userId": "03677641251873086767"
     },
     "user_tz": -480
    },
    "id": "CPzObZLRGm0s",
    "outputId": "de4c6648-65f4-4fc4-c5cd-d6d94c5804f0"
   },
   "outputs": [
    {
     "name": "stdout",
     "output_type": "stream",
     "text": [
      "Shape after dropping rows with missing 'severerisk': (996, 33)\n",
      "Shape after dropping rows with missing 'preciptype': (996, 33)\n"
     ]
    }
   ],
   "source": [
    "data = data.dropna(subset=['severerisk'])\n",
    "print(f\"Shape after dropping rows with missing 'severerisk': {data.shape}\")\n",
    "\n",
    "data.loc[:, 'preciptype'] = data['preciptype'].fillna('None')\n",
    "print(f\"Shape after dropping rows with missing 'preciptype': {data.shape}\")\n",
    "\n"
   ]
  },
  {
   "cell_type": "markdown",
   "metadata": {
    "id": "iQP0bN0El5Un"
   },
   "source": [
    "## Distribution of Target Variable (severerisk)"
   ]
  },
  {
   "cell_type": "code",
   "execution_count": 7,
   "metadata": {
    "colab": {
     "base_uri": "https://localhost:8080/",
     "height": 686
    },
    "executionInfo": {
     "elapsed": 514,
     "status": "ok",
     "timestamp": 1733399950215,
     "user": {
      "displayName": "Kristina Celis",
      "userId": "03677641251873086767"
     },
     "user_tz": -480
    },
    "id": "LXhh6phnl5AK",
    "outputId": "8e3670fc-7080-426a-807f-37d25d06bc62"
   },
   "outputs": [
    {
     "name": "stdout",
     "output_type": "stream",
     "text": [
      "Distribution of 'severerisk':\n",
      "severerisk\n",
      "10.0    457\n",
      "30.0    394\n",
      "60.0    140\n",
      "75.0      5\n",
      "Name: count, dtype: int64\n"
     ]
    },
    {
     "data": {
      "image/png": "[encoded data removed]",
      "text/plain": [
       "<Figure size 800x600 with 1 Axes>"
      ]
     },
     "metadata": {},
     "output_type": "display_data"
    }
   ],
   "source": [
    "# Distribution of severerisk\n",
    "print(\"Distribution of 'severerisk':\")\n",
    "print(data['severerisk'].value_counts())\n",
    "\n",
    "# Plot distribution\n",
    "plt.figure(figsize=(8, 6))\n",
    "sns.countplot(data=data, x='severerisk')\n",
    "plt.title(\"Distribution of 'severerisk'\")\n",
    "plt.xlabel(\"Severe Risk Levels\")\n",
    "plt.ylabel(\"Frequency\")\n",
    "plt.show()"
   ]
  },
  {
   "cell_type": "markdown",
   "metadata": {
    "id": "nLL2rR6ZKeIQ"
   },
   "source": [
    "## Target Encoding"
   ]
  },
  {
   "cell_type": "code",
   "execution_count": 8,
   "metadata": {
    "colab": {
     "base_uri": "https://localhost:8080/"
    },
    "executionInfo": {
     "elapsed": 17,
     "status": "ok",
     "timestamp": 1733399950216,
     "user": {
      "displayName": "Kristina Celis",
      "userId": "03677641251873086767"
     },
     "user_tz": -480
    },
    "id": "veRbQXgNKgQl",
    "outputId": "66b95624-e802-4073-8bf4-691a242dc7ae"
   },
   "outputs": [
    {
     "name": "stdout",
     "output_type": "stream",
     "text": [
      "severerisk_encoded\n",
      "1    534\n",
      "0    457\n",
      "2      5\n",
      "Name: count, dtype: int64\n"
     ]
    }
   ],
   "source": [
    "# Define risk thresholds and directly map to numerical values\n",
    "def encode_severerisk(value):\n",
    "    if value < 30:\n",
    "        return 0  # Low\n",
    "    elif 30 <= value < 70:\n",
    "        return 1  # Moderate\n",
    "    else:\n",
    "        return 2  # High\n",
    "\n",
    "# Apply the encoding\n",
    "data['severerisk_encoded'] = data['severerisk'].apply(encode_severerisk)\n",
    "\n",
    "# Drop the original 'severerisk' column\n",
    "data = data.drop(columns=['severerisk'], errors='ignore')\n",
    "\n",
    "# Verify the encoding\n",
    "print(data['severerisk_encoded'].value_counts())\n"
   ]
  },
  {
   "cell_type": "markdown",
   "metadata": {
    "id": "roQPBB-Z8-KH"
   },
   "source": [
    "## Process Non-numerical and Irrelevant Features"
   ]
  },
  {
   "cell_type": "code",
   "execution_count": 9,
   "metadata": {
    "colab": {
     "base_uri": "https://localhost:8080/"
    },
    "executionInfo": {
     "elapsed": 15,
     "status": "ok",
     "timestamp": 1733399950216,
     "user": {
      "displayName": "Kristina Celis",
      "userId": "03677641251873086767"
     },
     "user_tz": -480
    },
    "id": "YTxSgK4s9JKO",
    "outputId": "dfb93c04-76c6-406e-de37-9406608af99a"
   },
   "outputs": [
    {
     "name": "stdout",
     "output_type": "stream",
     "text": [
      "Features After Dropping Irrelevant Ones:\n",
      "Index(['datetime', 'tempmax', 'tempmin', 'temp', 'feelslikemax',\n",
      "       'feelslikemin', 'feelslike', 'dew', 'humidity', 'precip', 'precipprob',\n",
      "       'precipcover', 'preciptype', 'windgust', 'windspeed', 'winddir',\n",
      "       'sealevelpressure', 'cloudcover', 'visibility', 'solarradiation',\n",
      "       'solarenergy', 'uvindex', 'sunrise', 'sunset', 'moonphase',\n",
      "       'conditions', 'severerisk_encoded'],\n",
      "      dtype='object')\n",
      "\n",
      "Dataset Info After Dropping Irrelevant Features:\n",
      "<class 'pandas.core.frame.DataFrame'>\n",
      "Index: 996 entries, 466 to 1461\n",
      "Data columns (total 27 columns):\n",
      " #   Column              Non-Null Count  Dtype  \n",
      "---  ------              --------------  -----  \n",
      " 0   datetime            996 non-null    object \n",
      " 1   tempmax             996 non-null    float64\n",
      " 2   tempmin             996 non-null    float64\n",
      " 3   temp                996 non-null    float64\n",
      " 4   feelslikemax        996 non-null    float64\n",
      " 5   feelslikemin        996 non-null    float64\n",
      " 6   feelslike           996 non-null    float64\n",
      " 7   dew                 996 non-null    float64\n",
      " 8   humidity            996 non-null    float64\n",
      " 9   precip              996 non-null    float64\n",
      " 10  precipprob          996 non-null    int64  \n",
      " 11  precipcover         996 non-null    float64\n",
      " 12  preciptype          996 non-null    object \n",
      " 13  windgust            996 non-null    float64\n",
      " 14  windspeed           996 non-null    float64\n",
      " 15  winddir             996 non-null    float64\n",
      " 16  sealevelpressure    996 non-null    float64\n",
      " 17  cloudcover          996 non-null    float64\n",
      " 18  visibility          996 non-null    float64\n",
      " 19  solarradiation      996 non-null    float64\n",
      " 20  solarenergy         996 non-null    float64\n",
      " 21  uvindex             996 non-null    int64  \n",
      " 22  sunrise             996 non-null    object \n",
      " 23  sunset              996 non-null    object \n",
      " 24  moonphase           996 non-null    float64\n",
      " 25  conditions          996 non-null    object \n",
      " 26  severerisk_encoded  996 non-null    int64  \n",
      "dtypes: float64(19), int64(3), object(5)\n",
      "memory usage: 217.9+ KB\n",
      "None\n"
     ]
    }
   ],
   "source": [
    "# List of irrelevant features to drop\n",
    "irrelevant_features = ['name', 'description', 'icon', 'stations', 'snow', 'snowdepth']\n",
    "\n",
    "# Drop irrelevant features\n",
    "data = data.drop(columns=irrelevant_features, errors='ignore')\n",
    "\n",
    "# Confirm the remaining features\n",
    "print(\"Features After Dropping Irrelevant Ones:\")\n",
    "print(data.columns)\n",
    "\n",
    "print(\"\\nDataset Info After Dropping Irrelevant Features:\")\n",
    "print(data.info())"
   ]
  },
  {
   "cell_type": "code",
   "execution_count": 10,
   "metadata": {
    "colab": {
     "base_uri": "https://localhost:8080/"
    },
    "executionInfo": {
     "elapsed": 13,
     "status": "ok",
     "timestamp": 1733399950216,
     "user": {
      "displayName": "Kristina Celis",
      "userId": "03677641251873086767"
     },
     "user_tz": -480
    },
    "id": "EqceV4YY8LIH",
    "outputId": "cc973168-f026-410e-a9f8-60ef0aab58d8"
   },
   "outputs": [
    {
     "name": "stdout",
     "output_type": "stream",
     "text": [
      "Non-Numerical Features: Index(['datetime', 'preciptype', 'sunrise', 'sunset', 'conditions'], dtype='object')\n"
     ]
    }
   ],
   "source": [
    "# Identify non-numerical features\n",
    "non_numerical_features = data.select_dtypes(include=['object', 'category']).columns\n",
    "print(\"Non-Numerical Features:\", non_numerical_features)\n"
   ]
  },
  {
   "cell_type": "code",
   "execution_count": 11,
   "metadata": {
    "colab": {
     "base_uri": "https://localhost:8080/"
    },
    "executionInfo": {
     "elapsed": 12,
     "status": "ok",
     "timestamp": 1733399950216,
     "user": {
      "displayName": "Kristina Celis",
      "userId": "03677641251873086767"
     },
     "user_tz": -480
    },
    "id": "Cla6E8Yh9j71",
    "outputId": "5252242d-7478-462f-d5a2-c1c9f3d8d09f"
   },
   "outputs": [
    {
     "name": "stdout",
     "output_type": "stream",
     "text": [
      "<class 'pandas.core.frame.DataFrame'>\n",
      "Index: 996 entries, 466 to 1461\n",
      "Data columns (total 28 columns):\n",
      " #   Column              Non-Null Count  Dtype  \n",
      "---  ------              --------------  -----  \n",
      " 0   tempmax             996 non-null    float64\n",
      " 1   tempmin             996 non-null    float64\n",
      " 2   temp                996 non-null    float64\n",
      " 3   feelslikemax        996 non-null    float64\n",
      " 4   feelslikemin        996 non-null    float64\n",
      " 5   feelslike           996 non-null    float64\n",
      " 6   dew                 996 non-null    float64\n",
      " 7   humidity            996 non-null    float64\n",
      " 8   precip              996 non-null    float64\n",
      " 9   precipprob          996 non-null    int64  \n",
      " 10  precipcover         996 non-null    float64\n",
      " 11  preciptype          996 non-null    object \n",
      " 12  windgust            996 non-null    float64\n",
      " 13  windspeed           996 non-null    float64\n",
      " 14  winddir             996 non-null    float64\n",
      " 15  sealevelpressure    996 non-null    float64\n",
      " 16  cloudcover          996 non-null    float64\n",
      " 17  visibility          996 non-null    float64\n",
      " 18  solarradiation      996 non-null    float64\n",
      " 19  solarenergy         996 non-null    float64\n",
      " 20  uvindex             996 non-null    int64  \n",
      " 21  sunrise             996 non-null    object \n",
      " 22  sunset              996 non-null    object \n",
      " 23  moonphase           996 non-null    float64\n",
      " 24  conditions          996 non-null    object \n",
      " 25  severerisk_encoded  996 non-null    int64  \n",
      " 26  month_sin           996 non-null    float64\n",
      " 27  month_cos           996 non-null    float64\n",
      "dtypes: float64(21), int64(3), object(4)\n",
      "memory usage: 225.7+ KB\n",
      "None\n"
     ]
    }
   ],
   "source": [
    "# Convert 'datetime' to pandas datetime format\n",
    "data['datetime'] = pd.to_datetime(data['datetime'])\n",
    "\n",
    "# Extract the month\n",
    "data['month'] = data['datetime'].dt.month\n",
    "\n",
    "# Encode 'month' cyclically\n",
    "data['month_sin'] = np.sin(2 * np.pi * data['month'] / 12)\n",
    "data['month_cos'] = np.cos(2 * np.pi * data['month'] / 12)\n",
    "\n",
    "# Drop unnecessary columns\n",
    "data = data.drop(columns=['datetime', 'month'], errors='ignore')\n",
    "\n",
    "# Confirm the changes\n",
    "print(data.info())"
   ]
  },
  {
   "cell_type": "code",
   "execution_count": 12,
   "metadata": {
    "colab": {
     "base_uri": "https://localhost:8080/"
    },
    "executionInfo": {
     "elapsed": 10,
     "status": "ok",
     "timestamp": 1733399950216,
     "user": {
      "displayName": "Kristina Celis",
      "userId": "03677641251873086767"
     },
     "user_tz": -480
    },
    "id": "HbTZvezn9ojf",
    "outputId": "9804a711-ec23-40cd-90ce-94b5869e45ec"
   },
   "outputs": [
    {
     "name": "stdout",
     "output_type": "stream",
     "text": [
      "preciptype\n",
      "1    770\n",
      "0    226\n",
      "Name: count, dtype: int64\n"
     ]
    }
   ],
   "source": [
    "# Encode as binary\n",
    "data['preciptype'] = data['preciptype'].apply(lambda x: 1 if x == 'rain' else 0)\n",
    "print(data['preciptype'].value_counts())\n"
   ]
  },
  {
   "cell_type": "code",
   "execution_count": 13,
   "metadata": {
    "id": "GvcIOvev9rnM"
   },
   "outputs": [],
   "source": [
    "# Convert to datetime type\n",
    "data['sunrise'] = pd.to_datetime(data['sunrise'])\n",
    "data['sunset'] = pd.to_datetime(data['sunset'])\n",
    "\n",
    "# Calculate daylight hours\n",
    "data['daylight_hours'] = (data['sunset'] - data['sunrise']).dt.total_seconds() / 3600\n",
    "\n",
    "# Drop original columns\n",
    "data = data.drop(columns=['sunrise', 'sunset'], errors='ignore')"
   ]
  },
  {
   "cell_type": "code",
   "execution_count": 14,
   "metadata": {
    "id": "xPn2cjDN9zEK"
   },
   "outputs": [],
   "source": [
    "# One-Hot Encoding of 'conditions'\n",
    "le = LabelEncoder()\n",
    "data = pd.get_dummies(data, columns=['conditions'], drop_first=True)"
   ]
  },
  {
   "cell_type": "code",
   "execution_count": 15,
   "metadata": {
    "colab": {
     "base_uri": "https://localhost:8080/"
    },
    "executionInfo": {
     "elapsed": 7,
     "status": "ok",
     "timestamp": 1733399950216,
     "user": {
      "displayName": "Kristina Celis",
      "userId": "03677641251873086767"
     },
     "user_tz": -480
    },
    "id": "qop7MoRP-Juk",
    "outputId": "bbac1eab-8a5d-4a9c-85e5-db66a875866e"
   },
   "outputs": [
    {
     "name": "stdout",
     "output_type": "stream",
     "text": [
      "\n",
      "Dataset Info After Converting Non-Numerical Features:\n",
      "<class 'pandas.core.frame.DataFrame'>\n",
      "Index: 996 entries, 466 to 1461\n",
      "Data columns (total 29 columns):\n",
      " #   Column                             Non-Null Count  Dtype  \n",
      "---  ------                             --------------  -----  \n",
      " 0   tempmax                            996 non-null    float64\n",
      " 1   tempmin                            996 non-null    float64\n",
      " 2   temp                               996 non-null    float64\n",
      " 3   feelslikemax                       996 non-null    float64\n",
      " 4   feelslikemin                       996 non-null    float64\n",
      " 5   feelslike                          996 non-null    float64\n",
      " 6   dew                                996 non-null    float64\n",
      " 7   humidity                           996 non-null    float64\n",
      " 8   precip                             996 non-null    float64\n",
      " 9   precipprob                         996 non-null    int64  \n",
      " 10  precipcover                        996 non-null    float64\n",
      " 11  preciptype                         996 non-null    int64  \n",
      " 12  windgust                           996 non-null    float64\n",
      " 13  windspeed                          996 non-null    float64\n",
      " 14  winddir                            996 non-null    float64\n",
      " 15  sealevelpressure                   996 non-null    float64\n",
      " 16  cloudcover                         996 non-null    float64\n",
      " 17  visibility                         996 non-null    float64\n",
      " 18  solarradiation                     996 non-null    float64\n",
      " 19  solarenergy                        996 non-null    float64\n",
      " 20  uvindex                            996 non-null    int64  \n",
      " 21  moonphase                          996 non-null    float64\n",
      " 22  severerisk_encoded                 996 non-null    int64  \n",
      " 23  month_sin                          996 non-null    float64\n",
      " 24  month_cos                          996 non-null    float64\n",
      " 25  daylight_hours                     996 non-null    float64\n",
      " 26  conditions_Partially cloudy        996 non-null    bool   \n",
      " 27  conditions_Rain, Overcast          996 non-null    bool   \n",
      " 28  conditions_Rain, Partially cloudy  996 non-null    bool   \n",
      "dtypes: bool(3), float64(22), int64(4)\n",
      "memory usage: 213.0 KB\n",
      "None\n",
      "Remaining Non-Numerical Features: Index([], dtype='object')\n"
     ]
    }
   ],
   "source": [
    "print(\"\\nDataset Info After Converting Non-Numerical Features:\")\n",
    "print(data.info())\n",
    "\n",
    "# Identify any remaining non-numerical features\n",
    "non_numerical_features = data.select_dtypes(include=['object', 'category']).columns\n",
    "print(\"Remaining Non-Numerical Features:\", non_numerical_features)"
   ]
  },
  {
   "cell_type": "markdown",
   "metadata": {
    "id": "grfnBm1cPAUe"
   },
   "source": [
    "## Check Correlations/Relationships"
   ]
  },
  {
   "cell_type": "code",
   "execution_count": 16,
   "metadata": {
    "colab": {
     "base_uri": "https://localhost:8080/",
     "height": 1000
    },
    "executionInfo": {
     "elapsed": 4333,
     "status": "ok",
     "timestamp": 1733399954543,
     "user": {
      "displayName": "Kristina Celis",
      "userId": "03677641251873086767"
     },
     "user_tz": -480
    },
    "id": "oyJyvlTfPHdc",
    "outputId": "1916d74c-26ea-4d9a-ecc7-bd9005d1248c"
   },
   "outputs": [
    {
     "name": "stdout",
     "output_type": "stream",
     "text": [
      "Highly Correlated Features with 'severerisk':\n",
      " severerisk_encoded                   1.000000\n",
      "dew                                  0.734210\n",
      "month_sin                            0.584156\n",
      "feelslike                            0.553896\n",
      "feelslikemax                         0.553450\n",
      "daylight_hours                       0.537627\n",
      "tempmin                              0.512797\n",
      "humidity                             0.493915\n",
      "sealevelpressure                     0.469815\n",
      "month_cos                            0.464033\n",
      "winddir                              0.455672\n",
      "preciptype                           0.436333\n",
      "feelslikemin                         0.428393\n",
      "precipprob                           0.426362\n",
      "conditions_Partially cloudy          0.424399\n",
      "conditions_Rain, Partially cloudy    0.380817\n",
      "precipcover                          0.347199\n",
      "temp                                 0.332665\n",
      "cloudcover                           0.270703\n",
      "visibility                           0.261564\n",
      "precip                               0.202972\n",
      "tempmax                              0.191431\n",
      "windgust                             0.174006\n",
      "solarradiation                       0.167457\n",
      "solarenergy                          0.164547\n",
      "uvindex                              0.141208\n",
      "windspeed                            0.062589\n",
      "conditions_Rain, Overcast            0.052338\n",
      "moonphase                            0.029983\n",
      "Name: severerisk_encoded, dtype: float64\n"
     ]
    }
   ],
   "source": [
    "# Compute correlation matrix\n",
    "correlation_matrix = data.corr()\n",
    "\n",
    "# Identify features highly correlated with 'severerisk'\n",
    "high_corr_features = correlation_matrix['severerisk_encoded'].abs().sort_values(ascending=False)\n",
    "print(\"Highly Correlated Features with 'severerisk':\\n\", high_corr_features)"
   ]
  },
  {
   "cell_type": "markdown",
   "metadata": {
    "id": "8ElupJTXaNbr"
   },
   "source": [
    "## Drop redundant features"
   ]
  },
  {
   "cell_type": "code",
   "execution_count": 17,
   "metadata": {
    "colab": {
     "base_uri": "https://localhost:8080/"
    },
    "executionInfo": {
     "elapsed": 23,
     "status": "ok",
     "timestamp": 1733399954544,
     "user": {
      "displayName": "Kristina Celis",
      "userId": "03677641251873086767"
     },
     "user_tz": -480
    },
    "id": "hmgpPR-Ma2q-",
    "outputId": "c3bdb38b-4a44-4e5f-ced6-e1c755578fd7"
   },
   "outputs": [
    {
     "name": "stdout",
     "output_type": "stream",
     "text": [
      "             temp  tempmin   tempmax\n",
      "temp     1.000000  0.66745  0.881533\n",
      "tempmin  0.667450  1.00000  0.396630\n",
      "tempmax  0.881533  0.39663  1.000000\n"
     ]
    }
   ],
   "source": [
    "# Check pairwise correlations among temp-related features\n",
    "temp_corr = data[['temp', 'tempmin', 'tempmax']].corr()\n",
    "print(temp_corr)\n"
   ]
  },
  {
   "cell_type": "code",
   "execution_count": 18,
   "metadata": {
    "colab": {
     "base_uri": "https://localhost:8080/"
    },
    "executionInfo": {
     "elapsed": 21,
     "status": "ok",
     "timestamp": 1733399954544,
     "user": {
      "displayName": "Kristina Celis",
      "userId": "03677641251873086767"
     },
     "user_tz": -480
    },
    "id": "FOv-ygFAbHen",
    "outputId": "425291b2-a4af-4e42-c146-5ea209878c91"
   },
   "outputs": [
    {
     "name": "stdout",
     "output_type": "stream",
     "text": [
      "              feelslike  feelslikemax  feelslikemin\n",
      "feelslike      1.000000      0.906567      0.729251\n",
      "feelslikemax   0.906567      1.000000      0.568987\n",
      "feelslikemin   0.729251      0.568987      1.000000\n"
     ]
    }
   ],
   "source": [
    "# Correlation between feelslike-related features\n",
    "feelslike_corr = data[['feelslike', 'feelslikemax', 'feelslikemin']].corr()\n",
    "print(feelslike_corr)"
   ]
  },
  {
   "cell_type": "code",
   "execution_count": 19,
   "metadata": {
    "id": "6ibN1oLaaQKJ"
   },
   "outputs": [],
   "source": [
    "redundant_features = ['temp', 'feelslikemin', 'feelslikemax', 'tempmax']\n",
    "data = data.drop(columns=redundant_features, errors='ignore')"
   ]
  },
  {
   "cell_type": "markdown",
   "metadata": {
    "id": "QBqErCUABJp2"
   },
   "source": [
    "## Checking for Skewness"
   ]
  },
  {
   "cell_type": "code",
   "execution_count": 20,
   "metadata": {
    "id": "RcEA7BakBLtc"
   },
   "outputs": [],
   "source": [
    "# Identify numerical features\n",
    "numerical_features = data.select_dtypes(include=['float64', 'int64']).columns\n",
    "\n",
    "# Exclude categorical and target features\n",
    "categorical_features = ['conditions_Partially cloudy',\n",
    "                        'conditions_Rain, Overcast',\n",
    "                        'conditions_Rain, Partially cloudy',\n",
    "                        'preciptype',\n",
    "                        'severerisk_encoded']\n",
    "\n",
    "# Filter numerical features\n",
    "numerical_features_to_check = [col for col in numerical_features if col not in categorical_features]"
   ]
  },
  {
   "cell_type": "code",
   "execution_count": 21,
   "metadata": {
    "colab": {
     "base_uri": "https://localhost:8080/"
    },
    "executionInfo": {
     "elapsed": 19,
     "status": "ok",
     "timestamp": 1733399954544,
     "user": {
      "displayName": "Kristina Celis",
      "userId": "03677641251873086767"
     },
     "user_tz": -480
    },
    "id": "ZBgmKdAZBQMt",
    "outputId": "dd6c6667-8477-4ed6-b18e-04047d19da15"
   },
   "outputs": [
    {
     "name": "stdout",
     "output_type": "stream",
     "text": [
      "Heavily skewed numerical features: Index(['precip', 'windgust', 'windspeed'], dtype='object')\n",
      "Skewness before transformation:\n",
      "precip       8.005226\n",
      "windgust     6.792879\n",
      "windspeed    4.112155\n",
      "dtype: float64\n"
     ]
    }
   ],
   "source": [
    "# Calculate skewness for numerical features\n",
    "skewness = data[numerical_features_to_check].skew().sort_values(ascending=False)\n",
    "\n",
    "# Identify heavily skewed features (|skewness| > 1)\n",
    "heavily_skewed = skewness[abs(skewness) > 1].index\n",
    "print(\"Heavily skewed numerical features:\", heavily_skewed)\n",
    "\n",
    "print(\"Skewness before transformation:\")\n",
    "print(data[heavily_skewed].skew())"
   ]
  },
  {
   "cell_type": "code",
   "execution_count": 22,
   "metadata": {
    "colab": {
     "base_uri": "https://localhost:8080/"
    },
    "executionInfo": {
     "elapsed": 18,
     "status": "ok",
     "timestamp": 1733399954544,
     "user": {
      "displayName": "Kristina Celis",
      "userId": "03677641251873086767"
     },
     "user_tz": -480
    },
    "id": "H7zFKQyUEie5",
    "outputId": "55454ed1-4885-4657-fe93-459658f4dcf0"
   },
   "outputs": [
    {
     "name": "stdout",
     "output_type": "stream",
     "text": [
      "Skewness after transformation:\n",
      "precip       0.554764\n",
      "windgust    -0.010749\n",
      "windspeed   -0.036305\n",
      "dtype: float64\n"
     ]
    }
   ],
   "source": [
    "# Use PowerTransformer (Yeo-Johnson, works with zeros/negatives)\n",
    "pt = PowerTransformer(method='yeo-johnson')  # Handles zeros and negatives\n",
    "data[heavily_skewed] = pt.fit_transform(data[heavily_skewed])\n",
    "\n",
    "# Recheck skewness\n",
    "print(\"Skewness after transformation:\")\n",
    "print(data[heavily_skewed].skew())"
   ]
  },
  {
   "cell_type": "code",
   "execution_count": 23,
   "metadata": {
    "colab": {
     "base_uri": "https://localhost:8080/"
    },
    "executionInfo": {
     "elapsed": 16,
     "status": "ok",
     "timestamp": 1733399954544,
     "user": {
      "displayName": "Kristina Celis",
      "userId": "03677641251873086767"
     },
     "user_tz": -480
    },
    "id": "oj22a0KOiRsI",
    "outputId": "d14ae50f-2e5f-42da-d73a-9574e826111e"
   },
   "outputs": [
    {
     "name": "stdout",
     "output_type": "stream",
     "text": [
      "<class 'pandas.core.frame.DataFrame'>\n",
      "Index: 996 entries, 466 to 1461\n",
      "Data columns (total 25 columns):\n",
      " #   Column                             Non-Null Count  Dtype  \n",
      "---  ------                             --------------  -----  \n",
      " 0   tempmin                            996 non-null    float64\n",
      " 1   feelslike                          996 non-null    float64\n",
      " 2   dew                                996 non-null    float64\n",
      " 3   humidity                           996 non-null    float64\n",
      " 4   precip                             996 non-null    float64\n",
      " 5   precipprob                         996 non-null    int64  \n",
      " 6   precipcover                        996 non-null    float64\n",
      " 7   preciptype                         996 non-null    int64  \n",
      " 8   windgust                           996 non-null    float64\n",
      " 9   windspeed                          996 non-null    float64\n",
      " 10  winddir                            996 non-null    float64\n",
      " 11  sealevelpressure                   996 non-null    float64\n",
      " 12  cloudcover                         996 non-null    float64\n",
      " 13  visibility                         996 non-null    float64\n",
      " 14  solarradiation                     996 non-null    float64\n",
      " 15  solarenergy                        996 non-null    float64\n",
      " 16  uvindex                            996 non-null    int64  \n",
      " 17  moonphase                          996 non-null    float64\n",
      " 18  severerisk_encoded                 996 non-null    int64  \n",
      " 19  month_sin                          996 non-null    float64\n",
      " 20  month_cos                          996 non-null    float64\n",
      " 21  daylight_hours                     996 non-null    float64\n",
      " 22  conditions_Partially cloudy        996 non-null    bool   \n",
      " 23  conditions_Rain, Overcast          996 non-null    bool   \n",
      " 24  conditions_Rain, Partially cloudy  996 non-null    bool   \n",
      "dtypes: bool(3), float64(18), int64(4)\n",
      "memory usage: 181.9 KB\n",
      "None\n"
     ]
    }
   ],
   "source": [
    "print(data.info())"
   ]
  },
  {
   "cell_type": "markdown",
   "metadata": {
    "id": "gOlEFfnki04S"
   },
   "source": [
    "## Checking for Outliers"
   ]
  },
  {
   "cell_type": "code",
   "execution_count": 24,
   "metadata": {
    "colab": {
     "base_uri": "https://localhost:8080/"
    },
    "executionInfo": {
     "elapsed": 14,
     "status": "ok",
     "timestamp": 1733399954544,
     "user": {
      "displayName": "Kristina Celis",
      "userId": "03677641251873086767"
     },
     "user_tz": -480
    },
    "id": "LOJ5qiJyi2_m",
    "outputId": "ce6eb25b-c18a-4a50-a91b-9fa2730bd63a"
   },
   "outputs": [
    {
     "name": "stdout",
     "output_type": "stream",
     "text": [
      "Outliers detected in each feature:\n",
      "tempmin              32\n",
      "feelslike             0\n",
      "dew                   4\n",
      "humidity              0\n",
      "precip                0\n",
      "precipprob            0\n",
      "precipcover          11\n",
      "windgust              7\n",
      "windspeed            12\n",
      "winddir               0\n",
      "sealevelpressure     34\n",
      "cloudcover            0\n",
      "visibility          127\n",
      "solarradiation        2\n",
      "solarenergy           2\n",
      "uvindex              12\n",
      "moonphase             0\n",
      "month_sin             0\n",
      "month_cos             0\n",
      "daylight_hours        0\n",
      "dtype: int64\n"
     ]
    }
   ],
   "source": [
    "# Calculate IQR\n",
    "Q1 = data[numerical_features_to_check].quantile(0.25)\n",
    "Q3 = data[numerical_features_to_check].quantile(0.75)\n",
    "IQR = Q3 - Q1\n",
    "\n",
    "# Define bounds\n",
    "lower_bound = Q1 - 1.5 * IQR\n",
    "upper_bound = Q3 + 1.5 * IQR\n",
    "\n",
    "# Detect outliers\n",
    "outliers = ((data[numerical_features_to_check] < lower_bound) |\n",
    "            (data[numerical_features_to_check] > upper_bound))\n",
    "\n",
    "# Count outliers for each feature\n",
    "outliers_count = outliers.sum()\n",
    "print(\"Outliers detected in each feature:\")\n",
    "print(outliers_count)\n"
   ]
  },
  {
   "cell_type": "code",
   "execution_count": 25,
   "metadata": {
    "colab": {
     "base_uri": "https://localhost:8080/"
    },
    "executionInfo": {
     "elapsed": 13,
     "status": "ok",
     "timestamp": 1733399954544,
     "user": {
      "displayName": "Kristina Celis",
      "userId": "03677641251873086767"
     },
     "user_tz": -480
    },
    "id": "gDp92ZFejf34",
    "outputId": "07ffed38-d9d5-4c68-d420-90a6081de0a9"
   },
   "outputs": [
    {
     "name": "stdout",
     "output_type": "stream",
     "text": [
      "Outliers handled for features: ['feelslike', 'dew', 'humidity', 'precip', 'precipprob', 'precipcover', 'winddir', 'sealevelpressure', 'cloudcover', 'solarradiation', 'solarenergy', 'uvindex', 'moonphase', 'month_sin', 'month_cos', 'daylight_hours']\n"
     ]
    }
   ],
   "source": [
    "# Meaningful features (keep as is)\n",
    "features_to_keep = ['tempmin', 'visibility', 'windgust', 'windspeed']\n",
    "\n",
    "# Features to handle (all numerical features with outliers minus the ones to keep)\n",
    "features_to_handle = [col for col in numerical_features_to_check if col not in features_to_keep]\n",
    "\n",
    "# Cap outliers to IQR bounds\n",
    "for col in features_to_handle:\n",
    "    data[col] = data[col].clip(lower=lower_bound[col], upper=upper_bound[col])\n",
    "\n",
    "print(\"Outliers handled for features:\", features_to_handle)"
   ]
  },
  {
   "cell_type": "markdown",
   "metadata": {
    "id": "JaZR23xblp-b"
   },
   "source": [
    "## Review Original vs. Preprocessed Features"
   ]
  },
  {
   "cell_type": "code",
   "execution_count": 26,
   "metadata": {
    "colab": {
     "base_uri": "https://localhost:8080/"
    },
    "executionInfo": {
     "elapsed": 11,
     "status": "ok",
     "timestamp": 1733399954544,
     "user": {
      "displayName": "Kristina Celis",
      "userId": "03677641251873086767"
     },
     "user_tz": -480
    },
    "id": "2Ub6LlZmltvc",
    "outputId": "9f109e99-443f-4680-83b5-9fffe061798f"
   },
   "outputs": [
    {
     "name": "stdout",
     "output_type": "stream",
     "text": [
      "Original Feature Count: 33\n",
      "Preprocessed Feature Count: 25\n",
      "\n",
      "List of Original Features:\n",
      "['name', 'datetime', 'tempmax', 'tempmin', 'temp', 'feelslikemax', 'feelslikemin', 'feelslike', 'dew', 'humidity', 'precip', 'precipprob', 'precipcover', 'preciptype', 'snow', 'snowdepth', 'windgust', 'windspeed', 'winddir', 'sealevelpressure', 'cloudcover', 'visibility', 'solarradiation', 'solarenergy', 'uvindex', 'severerisk', 'sunrise', 'sunset', 'moonphase', 'conditions', 'description', 'icon', 'stations']\n",
      "\n",
      "List of Preprocessed Features:\n",
      "['tempmin', 'feelslike', 'dew', 'humidity', 'precip', 'precipprob', 'precipcover', 'preciptype', 'windgust', 'windspeed', 'winddir', 'sealevelpressure', 'cloudcover', 'visibility', 'solarradiation', 'solarenergy', 'uvindex', 'moonphase', 'severerisk_encoded', 'month_sin', 'month_cos', 'daylight_hours', 'conditions_Partially cloudy', 'conditions_Rain, Overcast', 'conditions_Rain, Partially cloudy']\n",
      "\n",
      "Added Features (7): {'month_cos', 'conditions_Rain, Overcast', 'month_sin', 'severerisk_encoded', 'conditions_Rain, Partially cloudy', 'conditions_Partially cloudy', 'daylight_hours'}\n",
      "Removed Features (15): {'conditions', 'snowdepth', 'temp', 'description', 'sunrise', 'severerisk', 'datetime', 'name', 'snow', 'feelslikemin', 'feelslikemax', 'tempmax', 'icon', 'stations', 'sunset'}\n"
     ]
    }
   ],
   "source": [
    "# Count the number of original features\n",
    "original_feature_count = original_data.shape[1]\n",
    "print(f\"Original Feature Count: {original_feature_count}\")\n",
    "\n",
    "# Count the number of preprocessed features\n",
    "preprocessed_feature_count = data.shape[1]\n",
    "print(f\"Preprocessed Feature Count: {preprocessed_feature_count}\")\n",
    "\n",
    "# List original and preprocessed features\n",
    "original_features = original_data.columns.tolist()\n",
    "preprocessed_features = data.columns.tolist()\n",
    "\n",
    "print(\"\\nList of Original Features:\")\n",
    "print(original_features)\n",
    "\n",
    "print(\"\\nList of Preprocessed Features:\")\n",
    "print(preprocessed_features)\n",
    "\n",
    "# Compare features\n",
    "added_features = set(preprocessed_features) - set(original_features)\n",
    "removed_features = set(original_features) - set(preprocessed_features)\n",
    "\n",
    "print(f\"\\nAdded Features ({len(added_features)}): {added_features}\")\n",
    "print(f\"Removed Features ({len(removed_features)}): {removed_features}\")"
   ]
  },
  {
   "cell_type": "markdown",
   "metadata": {
    "id": "h-b8yygUngZK"
   },
   "source": [
    "## Split dataset into Train and Test using Stratified Sampling"
   ]
  },
  {
   "cell_type": "code",
   "execution_count": 27,
   "metadata": {
    "colab": {
     "base_uri": "https://localhost:8080/"
    },
    "executionInfo": {
     "elapsed": 9,
     "status": "ok",
     "timestamp": 1733399954544,
     "user": {
      "displayName": "Kristina Celis",
      "userId": "03677641251873086767"
     },
     "user_tz": -480
    },
    "id": "0KhYgIVunllI",
    "outputId": "a5ed7b26-1666-448f-eafd-1c635c727f38"
   },
   "outputs": [
    {
     "name": "stdout",
     "output_type": "stream",
     "text": [
      "Class distribution in the original dataset:\n",
      "severerisk_encoded\n",
      "1    0.536145\n",
      "0    0.458835\n",
      "2    0.005020\n",
      "Name: proportion, dtype: float64\n",
      "\n",
      "Class distribution in the training set:\n",
      "severerisk_encoded\n",
      "1    0.536432\n",
      "0    0.458543\n",
      "2    0.005025\n",
      "Name: proportion, dtype: float64\n",
      "\n",
      "Class distribution in the test set:\n",
      "severerisk_encoded\n",
      "1    0.535\n",
      "0    0.460\n",
      "2    0.005\n",
      "Name: proportion, dtype: float64\n"
     ]
    }
   ],
   "source": [
    "# Define features (X) and target (y)\n",
    "X = data.drop(columns=['severerisk_encoded'])  # Drop the target column\n",
    "y = data['severerisk_encoded']  # Target column\n",
    "\n",
    "# Perform stratified split\n",
    "X_train, X_test, y_train, y_test = train_test_split(\n",
    "    X, y,\n",
    "    test_size=0.2,  # 20% test set\n",
    "    random_state=42,  # Ensure reproducibility\n",
    "    stratify=y  # Maintain class proportions\n",
    ")\n",
    "\n",
    "# Check the distribution in the splits\n",
    "print(\"Class distribution in the original dataset:\")\n",
    "print(y.value_counts(normalize=True))\n",
    "\n",
    "print(\"\\nClass distribution in the training set:\")\n",
    "print(y_train.value_counts(normalize=True))\n",
    "\n",
    "print(\"\\nClass distribution in the test set:\")\n",
    "print(y_test.value_counts(normalize=True))\n"
   ]
  },
  {
   "cell_type": "markdown",
   "metadata": {
    "id": "vHDUiL41MP1e"
   },
   "source": [
    "## Applying SMOTE\n",
    "\n",
    "Apply SMOTE to oversample the minority classes in the training set."
   ]
  },
  {
   "cell_type": "code",
   "execution_count": 28,
   "metadata": {
    "colab": {
     "base_uri": "https://localhost:8080/"
    },
    "executionInfo": {
     "elapsed": 8,
     "status": "ok",
     "timestamp": 1733399954544,
     "user": {
      "displayName": "Kristina Celis",
      "userId": "03677641251873086767"
     },
     "user_tz": -480
    },
    "id": "JF1i50v8j8wY",
    "outputId": "cf85f913-0f14-47be-ec30-0c9f8c3b44dc"
   },
   "outputs": [
    {
     "name": "stdout",
     "output_type": "stream",
     "text": [
      "Class distribution in the training set before SMOTE:\n",
      "severerisk_encoded\n",
      "1    427\n",
      "0    365\n",
      "2      4\n",
      "Name: count, dtype: int64\n",
      "\n",
      "Class distribution in the training set after SMOTE:\n",
      "severerisk_encoded\n",
      "1    427\n",
      "2    427\n",
      "0    365\n",
      "Name: count, dtype: int64\n",
      "\n",
      "Class distribution in the test set:\n",
      "severerisk_encoded\n",
      "1    107\n",
      "0     92\n",
      "2      1\n",
      "Name: count, dtype: int64\n"
     ]
    }
   ],
   "source": [
    "# Apply SMOTE to the training set\n",
    "smote = SMOTE(sampling_strategy='minority', random_state=42, k_neighbors=3)\n",
    "X_train_smote, y_train_smote = smote.fit_resample(X_train, y_train)\n",
    "\n",
    "\n",
    "# Check the distribution of the training set after SMOTE\n",
    "print(\"Class distribution in the training set before SMOTE:\")\n",
    "print(y_train.value_counts())\n",
    "\n",
    "print(\"\\nClass distribution in the training set after SMOTE:\")\n",
    "print(y_train_smote.value_counts())\n",
    "\n",
    "# Check the distribution in the test set (unchanged)\n",
    "print(\"\\nClass distribution in the test set:\")\n",
    "print(y_test.value_counts())"
   ]
  },
  {
   "cell_type": "code",
   "execution_count": 29,
   "metadata": {
    "colab": {
     "base_uri": "https://localhost:8080/",
     "height": 939
    },
    "executionInfo": {
     "elapsed": 956,
     "status": "ok",
     "timestamp": 1733399955494,
     "user": {
      "displayName": "Kristina Celis",
      "userId": "03677641251873086767"
     },
     "user_tz": -480
    },
    "id": "kZfoB3fBpPjh",
    "outputId": "f035de8c-e0b6-494c-e438-fccbdff86af6"
   },
   "outputs": [
    {
     "data": {
      "image/png": "[encoded data removed]",
      "text/plain": [
       "<Figure size 1000x500 with 1 Axes>"
      ]
     },
     "metadata": {},
     "output_type": "display_data"
    },
    {
     "data": {
      "image/png": "[encoded data removed]",
      "text/plain": [
       "<Figure size 1000x500 with 1 Axes>"
      ]
     },
     "metadata": {},
     "output_type": "display_data"
    }
   ],
   "source": [
    "# Before SMOTE\n",
    "plt.figure(figsize=(10, 5))\n",
    "sns.countplot(x=y_train)\n",
    "plt.title(\"Class Distribution in Training Set Before SMOTE\")\n",
    "plt.xlabel(\"Severe Risk Categories (Encoded)\")\n",
    "plt.ylabel(\"Count\")\n",
    "plt.show()\n",
    "\n",
    "# After SMOTE\n",
    "plt.figure(figsize=(10, 5))\n",
    "sns.countplot(x=y_train_smote)\n",
    "plt.title(\"Class Distribution in Training Set After SMOTE\")\n",
    "plt.xlabel(\"Severe Risk Categories (Encoded)\")\n",
    "plt.ylabel(\"Count\")\n",
    "plt.show()"
   ]
  },
  {
   "cell_type": "markdown",
   "metadata": {
    "id": "zWW0TMZWGGjo"
   },
   "source": [
    "## Feature Scaling"
   ]
  },
  {
   "cell_type": "code",
   "execution_count": 30,
   "metadata": {
    "id": "_1ooYlNQqYib"
   },
   "outputs": [],
   "source": [
    "# Initialize scaler\n",
    "scaler = StandardScaler()\n",
    "\n",
    "# Scale training and test sets w/ SMOTE\n",
    "X_train_smote_scaled = scaler.fit_transform(X_train_smote)\n",
    "X_test_scaled = scaler.transform(X_test)\n",
    "\n",
    "# Scale training sets w/o SMOTE\n",
    "X_train_scaled = scaler.fit_transform(X_train)\n",
    "\n",
    "# Convert back to DataFrame for easier analysis\n",
    "X_train_smote_scaled = pd.DataFrame(X_train_smote_scaled, columns=X_train.columns)\n",
    "X_train_scaled = pd.DataFrame(X_train_scaled, columns=X_train.columns)\n",
    "X_test_scaled = pd.DataFrame(X_test_scaled, columns=X_test.columns)"
   ]
  },
  {
   "cell_type": "markdown",
   "metadata": {
    "id": "2KBp1_NaCwAj"
   },
   "source": [
    "## Initialization of Classification Models"
   ]
  },
  {
   "cell_type": "code",
   "execution_count": 31,
   "metadata": {
    "id": "wNR3ivU6gyP4"
   },
   "outputs": [],
   "source": [
    "# Initialize models\n",
    "models = {\n",
    "    \"Random Forest\": RandomForestClassifier(random_state=42),\n",
    "    \"Decision Tree\": DecisionTreeClassifier(random_state=42),\n",
    "    \"SVM\": SVC(kernel='linear', probability=True, random_state=42),\n",
    "    \"KNN\": KNeighborsClassifier(),\n",
    "    \"XGBoost\": XGBClassifier(random_state=42,eval_metric='mlogloss')\n",
    "}"
   ]
  },
  {
   "cell_type": "markdown",
   "metadata": {
    "id": "u1qIXIpSCwAk"
   },
   "source": [
    "## Functions for evaluating classification models with and without RFE"
   ]
  },
  {
   "cell_type": "code",
   "execution_count": 32,
   "metadata": {
    "id": "wNoAMj_1CwAk"
   },
   "outputs": [],
   "source": [
    "from sklearn.metrics import accuracy_score, precision_score, recall_score, f1_score, confusion_matrix, ConfusionMatrixDisplay\n",
    "import matplotlib.pyplot as plt\n",
    "\n",
    "def evaluate_baseline(models, X_train, y_train, X_test, y_test, smote=False):\n",
    "    results = {}\n",
    "    best_model_name = None\n",
    "    best_model_metrics = None\n",
    "    best_model = None\n",
    "    highest_accuracy = 0\n",
    "\n",
    "    print(f\"Evaluating models without RFE (all features)...{' Using SMOTE' if smote else ''}\")\n",
    "\n",
    "    for name, model in models.items():\n",
    "        # Train and test the model using all features\n",
    "        model.fit(X_train, y_train)\n",
    "        y_pred = model.predict(X_test)\n",
    "\n",
    "        # Calculate metrics\n",
    "        metrics = {\n",
    "            \"accuracy\": accuracy_score(y_test, y_pred),\n",
    "            \"precision\": precision_score(y_test, y_pred, average=\"weighted\", zero_division=0),\n",
    "            \"recall\": recall_score(y_test, y_pred, average=\"weighted\"),\n",
    "            \"f1_score\": f1_score(y_test, y_pred, average=\"weighted\")\n",
    "        }\n",
    "        results[name] = metrics\n",
    "\n",
    "        # Check if this model is the best based on accuracy\n",
    "        if metrics[\"accuracy\"] > highest_accuracy:\n",
    "            highest_accuracy = metrics[\"accuracy\"]\n",
    "            best_model_name = name\n",
    "            best_model_metrics = metrics\n",
    "            best_model = model\n",
    "\n",
    "    # Display results\n",
    "    print(\"\\nBaseline Results (Without RFE):\")\n",
    "    for name, metrics in results.items():\n",
    "        print(f\"\\n{name}:\")\n",
    "        for metric, value in metrics.items():\n",
    "            print(f\"  {metric.capitalize()}: {value:.4f}\")\n",
    "\n",
    "    print(\"\\nBest Model Based on Accuracy:\")\n",
    "    print(f\"  Model Name: {best_model_name}\")\n",
    "    for metric, value in best_model_metrics.items():\n",
    "        print(f\"  {metric.capitalize()}: {value:.4f}\")\n",
    "\n",
    "    # Display confusion matrix for the best model\n",
    "    if best_model:\n",
    "        y_pred_best = best_model.predict(X_test)\n",
    "        cm = confusion_matrix(y_test, y_pred_best)\n",
    "\n",
    "        # Define custom labels for confusion matrix\n",
    "        labels = ['low', 'moderate', 'high']\n",
    "\n",
    "\n",
    "        # Plot the confusion matrix with title\n",
    "        disp = ConfusionMatrixDisplay(confusion_matrix=cm, display_labels=labels)\n",
    "        fig, ax = plt.subplots(figsize=(8, 6))  # Specify the figure size\n",
    "        disp.plot(ax=ax)\n",
    "\n",
    "        # Set the title of the plot\n",
    "        ax.set_title(f'Confusion Matrix for {best_model_name}{\" with SMOTE\" if smote else \" without SMOTE\"}')\n",
    "        plt.show()\n",
    "\n",
    "    return results, best_model_name, best_model_metrics\n",
    "\n",
    "def evaluate_rfe(model, model_name, X_train, y_train, X_test, y_test):\n",
    "    if hasattr(X_train, 'columns'):\n",
    "        feature_names = X_train.columns\n",
    "    else:\n",
    "        feature_names = [f\"Feature {i}\" for i in range(X_train.shape[1])]\n",
    "\n",
    "    total_features = X_train.shape[1]\n",
    "    best_accuracy = 0\n",
    "    best_no_features = 0\n",
    "    best_features = []\n",
    "    best_feature_importances = {}\n",
    "    best_model = None\n",
    "\n",
    "    print(f\"\\nEvaluating RFE for Model: {model_name}\")\n",
    "\n",
    "    for no_features in range(total_features, 0, -1):\n",
    "        rfe = RFE(estimator=model, n_features_to_select=no_features)\n",
    "        rfe.fit(X_train, y_train)\n",
    "\n",
    "        # Transform datasets\n",
    "        X_train_rfe = rfe.transform(X_train)\n",
    "        X_test_rfe = rfe.transform(X_test)\n",
    "\n",
    "        # Train and evaluate the model\n",
    "        model.fit(X_train_rfe, y_train)\n",
    "        y_pred_rfe = model.predict(X_test_rfe)\n",
    "        accuracy_rfe = accuracy_score(y_test, y_pred_rfe)\n",
    "\n",
    "        # Check if this is the best configuration\n",
    "        if accuracy_rfe > best_accuracy:\n",
    "            best_accuracy = accuracy_rfe\n",
    "            best_no_features = no_features\n",
    "            best_features = [feature_names[i] for i in range(len(feature_names)) if rfe.support_[i]]\n",
    "\n",
    "            # Capture feature importance scores for selected features\n",
    "            if hasattr(model, \"feature_importances_\"):  # For tree-based models\n",
    "                importance_scores = model.feature_importances_\n",
    "                best_feature_importances = {feature: score for feature, score in zip(best_features, importance_scores)}\n",
    "            elif hasattr(model, \"coef_\"):  # For linear models\n",
    "                importance_scores = abs(model.coef_[0]) if model.coef_.ndim > 1 else abs(model.coef_)\n",
    "                best_feature_importances = {feature: score for feature, score in zip(best_features, importance_scores)}\n",
    "\n",
    "            best_model = model\n",
    "\n",
    "    # Display results\n",
    "    print(f\"\\nModel: {model_name}\")\n",
    "    print(f\"Best Number of Features: {best_no_features}\")\n",
    "    print(f\"Accuracy with Best Features: {best_accuracy:.4f}\")\n",
    "    print(f\"Selected Features with Importance Scores: {best_feature_importances}\")\n",
    "\n",
    "    # Display confusion matrix for the model with the best number of features\n",
    "    if best_model:\n",
    "        X_test_rfe_best = rfe.transform(X_test)\n",
    "        y_pred_best = best_model.predict(X_test_rfe_best)\n",
    "        cm = confusion_matrix(y_test, y_pred_best)\n",
    "        print(f\"\\nConfusion Matrix for {model_name} with Best Features:\")\n",
    "\n",
    "        # Define custom labels for confusion matrix\n",
    "        labels = ['low', 'moderate', 'high']\n",
    "\n",
    "        # Plot the confusion matrix with title\n",
    "        disp = ConfusionMatrixDisplay(confusion_matrix=cm, display_labels=labels)\n",
    "        fig, ax = plt.subplots(figsize=(8, 6))  # Specify the figure size\n",
    "        disp.plot(ax=ax)\n",
    "\n",
    "        # Set the title of the plot\n",
    "        ax.set_title(f'Confusion Matrix for {model_name} with Best Features')\n",
    "        plt.show()\n",
    "\n",
    "    return best_no_features, best_features, best_feature_importances, best_accuracy\n"
   ]
  },
  {
   "cell_type": "markdown",
   "metadata": {
    "id": "dgwtwB6kCwAl"
   },
   "source": [
    "## Evaluating Classification Models"
   ]
  },
  {
   "cell_type": "code",
   "execution_count": 33,
   "metadata": {
    "id": "aeBR7cJsCwAl",
    "outputId": "3fbb4aea-17b3-4cde-c0e8-a539c7e5cf3b"
   },
   "outputs": [
    {
     "name": "stdout",
     "output_type": "stream",
     "text": [
      "For data without SMOTE\n",
      "Evaluating models without RFE (all features)...\n",
      "\n",
      "Baseline Results (Without RFE):\n",
      "\n",
      "Random Forest:\n",
      "  Accuracy: 0.8350\n",
      "  Precision: 0.8348\n",
      "  Recall: 0.8350\n",
      "  F1_score: 0.8330\n",
      "\n",
      "Decision Tree:\n",
      "  Accuracy: 0.7700\n",
      "  Precision: 0.7782\n",
      "  Recall: 0.7700\n",
      "  F1_score: 0.7675\n",
      "\n",
      "SVM:\n",
      "  Accuracy: 0.8300\n",
      "  Precision: 0.8366\n",
      "  Recall: 0.8300\n",
      "  F1_score: 0.8276\n",
      "\n",
      "KNN:\n",
      "  Accuracy: 0.8300\n",
      "  Precision: 0.8306\n",
      "  Recall: 0.8300\n",
      "  F1_score: 0.8280\n",
      "\n",
      "XGBoost:\n",
      "  Accuracy: 0.8600\n",
      "  Precision: 0.8623\n",
      "  Recall: 0.8600\n",
      "  F1_score: 0.8578\n",
      "\n",
      "Best Model Based on Accuracy:\n",
      "  Model Name: XGBoost\n",
      "  Accuracy: 0.8600\n",
      "  Precision: 0.8623\n",
      "  Recall: 0.8600\n",
      "  F1_score: 0.8578\n"
     ]
    },
    {
     "data": {
      "image/png": "[encoded data removed]",
      "text/plain": [
       "<Figure size 800x600 with 2 Axes>"
      ]
     },
     "metadata": {},
     "output_type": "display_data"
    },
    {
     "name": "stdout",
     "output_type": "stream",
     "text": [
      "\n",
      "For data with SMOTE\n",
      "Evaluating models without RFE (all features)... Using SMOTE\n",
      "\n",
      "Baseline Results (Without RFE):\n",
      "\n",
      "Random Forest:\n",
      "  Accuracy: 0.8800\n",
      "  Precision: 0.8773\n",
      "  Recall: 0.8800\n",
      "  F1_score: 0.8774\n",
      "\n",
      "Decision Tree:\n",
      "  Accuracy: 0.8350\n",
      "  Precision: 0.8311\n",
      "  Recall: 0.8350\n",
      "  F1_score: 0.8326\n",
      "\n",
      "SVM:\n",
      "  Accuracy: 0.8550\n",
      "  Precision: 0.8603\n",
      "  Recall: 0.8550\n",
      "  F1_score: 0.8570\n",
      "\n",
      "KNN:\n",
      "  Accuracy: 0.8000\n",
      "  Precision: 0.8255\n",
      "  Recall: 0.8000\n",
      "  F1_score: 0.8123\n",
      "\n",
      "XGBoost:\n",
      "  Accuracy: 0.8600\n",
      "  Precision: 0.8571\n",
      "  Recall: 0.8600\n",
      "  F1_score: 0.8574\n",
      "\n",
      "Best Model Based on Accuracy:\n",
      "  Model Name: Random Forest\n",
      "  Accuracy: 0.8800\n",
      "  Precision: 0.8773\n",
      "  Recall: 0.8800\n",
      "  F1_score: 0.8774\n"
     ]
    },
    {
     "data": {
      "image/png": "[encoded data removed]",
      "text/plain": [
       "<Figure size 800x600 with 2 Axes>"
      ]
     },
     "metadata": {},
     "output_type": "display_data"
    },
    {
     "name": "stdout",
     "output_type": "stream",
     "text": [
      "The best model was trained with SMOTE: Random Forest\n",
      "Accuracy: 0.8800\n"
     ]
    }
   ],
   "source": [
    "print(\"For data without SMOTE\")\n",
    "# Evaluates classification model using dataset without SMOTE\n",
    "baseline_results_no_smote, best_model_name_no_smote, best_model_metrics_no_smote = evaluate_baseline(\n",
    "    models, X_train_scaled, y_train, X_test_scaled, y_test\n",
    ")\n",
    "\n",
    "print(\"\\nFor data with SMOTE\")\n",
    "# Evaluates classification model using dataset with SMOTE\n",
    "baseline_results_smote, best_model_name_smote, best_model_metrics_smote = evaluate_baseline(\n",
    "    models, X_train_smote_scaled, y_train_smote, X_test_scaled, y_test, smote=True\n",
    ")\n",
    "\n",
    "\n",
    "# Compare the accuracies of the best models\n",
    "if best_model_metrics_no_smote[\"accuracy\"] > best_model_metrics_smote[\"accuracy\"]:\n",
    "    baseline_results = baseline_results_no_smote\n",
    "    best_model_name = best_model_name_no_smote\n",
    "    best_model_metrics = best_model_metrics_no_smote\n",
    "    print(f\"The best model was trained without SMOTE: {best_model_name}\")\n",
    "    print(f\"Accuracy: {best_model_metrics['accuracy']:.4f}\")\n",
    "else:\n",
    "    baseline_results = baseline_results_smote\n",
    "    best_model_name = best_model_name_smote\n",
    "    best_model_metrics = best_model_metrics_smote\n",
    "    print(f\"The best model was trained with SMOTE: {best_model_name}\")\n",
    "    print(f\"Accuracy: {best_model_metrics['accuracy']:.4f}\")"
   ]
  },
  {
   "cell_type": "markdown",
   "metadata": {
    "id": "VxWgHv5vCwAl"
   },
   "source": [
    "## Evaluating Classification Models with RFE"
   ]
  },
  {
   "cell_type": "code",
   "execution_count": 34,
   "metadata": {
    "id": "ZWk_SElXCwAm",
    "outputId": "dec4693d-e7ad-4bc6-fece-f6c22d610a1d"
   },
   "outputs": [
    {
     "name": "stdout",
     "output_type": "stream",
     "text": [
      "\n",
      "Evaluating RFE for Model: Random Forest\n",
      "\n",
      "Model: Random Forest\n",
      "Best Number of Features: 10\n",
      "Accuracy with Best Features: 0.8850\n",
      "Selected Features with Importance Scores: {'tempmin': 0.06556747549750971, 'feelslike': 0.18616690626164167, 'dew': 0.2195941204043949, 'humidity': 0.08078690399754151, 'precip': 0.06471991377477343, 'precipcover': 0.07226516279892839, 'sealevelpressure': 0.04511784482698719, 'month_sin': 0.09935162073288258, 'month_cos': 0.055537098098704926, 'daylight_hours': 0.11089295360663556}\n",
      "\n",
      "Confusion Matrix for Random Forest with Best Features:\n"
     ]
    },
    {
     "data": {
      "image/png": "[encoded data removed]",
      "text/plain": [
       "<Figure size 800x600 with 2 Axes>"
      ]
     },
     "metadata": {},
     "output_type": "display_data"
    }
   ],
   "source": [
    "best_no_features, selected_features, selected_feature_importances, best_accuracy = evaluate_rfe(\n",
    "    models[best_model_name], best_model_name, X_train_smote_scaled, y_train_smote, X_test_scaled, y_test\n",
    ")"
   ]
  },
  {
   "cell_type": "markdown",
   "metadata": {
    "id": "iATJtPkwgyP5"
   },
   "source": [
    "## Hyperparameter Tuning\n",
    "Identifying best hyperparameter for each model\n",
    "(commented out because we already have the optimal hyperparameters)"
   ]
  },
  {
   "cell_type": "code",
   "execution_count": 35,
   "metadata": {
    "id": "UboXQBUMgyP5",
    "outputId": "13ed0003-01c8-402f-9ea2-a88be815763d"
   },
   "outputs": [
    {
     "name": "stdout",
     "output_type": "stream",
     "text": [
      "\n",
      "Performing Hyperparameter Tuning...\n",
      "\n",
      "Tuning hyperparameters for Random Forest...\n",
      "Fitting 3 folds for each of 36 candidates, totalling 108 fits\n",
      "Best parameters for Random Forest: {'max_depth': None, 'min_samples_leaf': 4, 'min_samples_split': 2, 'n_estimators': 100}\n",
      "Best cross-validated accuracy: 0.9368\n",
      "\n",
      "Tuning hyperparameters for Decision Tree...\n",
      "Fitting 3 folds for each of 12 candidates, totalling 36 fits\n",
      "Best parameters for Decision Tree: {'max_depth': 10, 'min_samples_leaf': 1, 'min_samples_split': 10}\n",
      "Best cross-validated accuracy: 0.9057\n",
      "\n",
      "Tuning hyperparameters for SVM...\n",
      "Fitting 3 folds for each of 12 candidates, totalling 36 fits\n",
      "Best parameters for SVM: {'C': 10, 'gamma': 'scale', 'kernel': 'linear'}\n",
      "Best cross-validated accuracy: 0.9278\n",
      "\n",
      "Tuning hyperparameters for KNN...\n",
      "Fitting 3 folds for each of 12 candidates, totalling 36 fits\n",
      "Best parameters for KNN: {'metric': 'minkowski', 'n_neighbors': 5, 'weights': 'distance'}\n",
      "Best cross-validated accuracy: 0.9032\n",
      "\n",
      "Tuning hyperparameters for XGBoost...\n",
      "Fitting 3 folds for each of 72 candidates, totalling 216 fits\n",
      "Best parameters for XGBoost: {'colsample_bytree': 0.8, 'learning_rate': 0.1, 'max_depth': 5, 'n_estimators': 100, 'subsample': 0.8}\n",
      "Best cross-validated accuracy: 0.9393\n",
      "\n",
      "Evaluating Best Models on Test Set...\n",
      "Random Forest - Test Accuracy: 0.8650\n",
      "Decision Tree - Test Accuracy: 0.8350\n",
      "SVM - Test Accuracy: 0.8500\n",
      "KNN - Test Accuracy: 0.8050\n",
      "XGBoost - Test Accuracy: 0.8750\n"
     ]
    }
   ],
   "source": [
    "# Hyperparameter grids for each model\n",
    "param_grids = {\n",
    "    \"Random Forest\": {\n",
    "        \"n_estimators\": [100, 200, 500],\n",
    "        \"max_depth\": [None, 10, 20],\n",
    "        \"min_samples_split\": [2, 10],\n",
    "        \"min_samples_leaf\": [1, 4]\n",
    "    },\n",
    "    \"Decision Tree\": {\n",
    "        \"max_depth\": [None, 10, 20],\n",
    "        \"min_samples_split\": [2, 10],\n",
    "        \"min_samples_leaf\": [1, 4]\n",
    "    },\n",
    "    \"SVM\": {\n",
    "        \"C\": [0.1, 1, 10],\n",
    "        \"kernel\": ['linear', 'rbf'],\n",
    "        \"gamma\": ['scale', 'auto']\n",
    "    },\n",
    "    \"KNN\": {\n",
    "        \"n_neighbors\": [3, 5, 7],\n",
    "        \"weights\": ['uniform', 'distance'],\n",
    "        \"metric\": ['minkowski', 'euclidean']\n",
    "    },\n",
    "    \"XGBoost\": {\n",
    "        \"n_estimators\": [100, 200],\n",
    "        \"learning_rate\": [0.01, 0.1, 0.2],\n",
    "        \"max_depth\": [3, 5, 7],\n",
    "        \"subsample\": [0.8, 1.0],\n",
    "        \"colsample_bytree\": [0.8, 1.0]\n",
    "    }\n",
    "}\n",
    "\n",
    "# Perform hyperparameter tuning using GridSearchCV\n",
    "best_estimators = {}\n",
    "\n",
    "print(\"\\nPerforming Hyperparameter Tuning...\")\n",
    "\n",
    "for name, model in models.items():\n",
    "    print(f\"\\nTuning hyperparameters for {name}...\")\n",
    "    grid_search = GridSearchCV(\n",
    "        model,\n",
    "        param_grids[name],\n",
    "        cv=3,\n",
    "        scoring='accuracy',\n",
    "        n_jobs=-1,\n",
    "        verbose=1\n",
    "    )\n",
    "    grid_search.fit(X_train_smote_scaled, y_train_smote)\n",
    "\n",
    "    # Save the best estimator\n",
    "    best_estimators[name] = grid_search.best_estimator_\n",
    "    print(f\"Best parameters for {name}: {grid_search.best_params_}\")\n",
    "    print(f\"Best cross-validated accuracy: {grid_search.best_score_:.4f}\")\n",
    "\n",
    "# Evaluate the best models on the test set\n",
    "print(\"\\nEvaluating Best Models on Test Set...\")\n",
    "\n",
    "for name, model in best_estimators.items():\n",
    "    y_pred = model.predict(X_test_scaled)\n",
    "    accuracy = accuracy_score(y_test, y_pred)\n",
    "    print(f\"{name} - Test Accuracy: {accuracy:.4f}\")\n"
   ]
  },
  {
   "cell_type": "markdown",
   "metadata": {
    "id": "Z8D4Y9UiCwAm"
   },
   "source": [
    "## Initializing Models with Tuned Hyperparameters"
   ]
  },
  {
   "cell_type": "code",
   "execution_count": 36,
   "metadata": {
    "id": "zk00cI1wCwAm"
   },
   "outputs": [],
   "source": [
    "# Hyperparameter Tuned Models\n",
    "models_hyper_tuned = {\n",
    "    \"Random Forest\": RandomForestClassifier(random_state=42, max_depth=None, min_samples_leaf=4, min_samples_split=2, n_estimators=100),\n",
    "    \"Decision Tree\": DecisionTreeClassifier(random_state=42, max_depth=10, min_samples_leaf=1, min_samples_split=10 ),\n",
    "    \"SVM\": SVC(kernel='linear', random_state=42, gamma=\"scale\", C=10),\n",
    "    \"KNN\": KNeighborsClassifier(metric='minkowski', n_neighbors=5,weights=\"distance\"),\n",
    "    \"XGBoost\": XGBClassifier(random_state=42, eval_metric='mlogloss', colsample_bytree=0.8, learning_rate=0.1, max_depth=5, n_estimators=100, subsample=0.8)\n",
    "}"
   ]
  },
  {
   "cell_type": "markdown",
   "metadata": {
    "id": "Nigsau76CwAm"
   },
   "source": [
    "## Evaluating Hyperparameter Tuned Classification Models"
   ]
  },
  {
   "cell_type": "code",
   "execution_count": 37,
   "metadata": {
    "id": "CQR5rNBPCwAo",
    "outputId": "17c029e6-c202-4dda-ba83-a17d1bb44a96"
   },
   "outputs": [
    {
     "name": "stdout",
     "output_type": "stream",
     "text": [
      "--- Using Hyperparameter Tuned Classification Models ---\n",
      "For data without SMOTE\n",
      "Evaluating models without RFE (all features)...\n",
      "\n",
      "Baseline Results (Without RFE):\n",
      "\n",
      "Random Forest:\n",
      "  Accuracy: 0.8300\n",
      "  Precision: 0.8291\n",
      "  Recall: 0.8300\n",
      "  F1_score: 0.8280\n",
      "\n",
      "Decision Tree:\n",
      "  Accuracy: 0.7800\n",
      "  Precision: 0.7861\n",
      "  Recall: 0.7800\n",
      "  F1_score: 0.7777\n",
      "\n",
      "SVM:\n",
      "  Accuracy: 0.8300\n",
      "  Precision: 0.8343\n",
      "  Recall: 0.8300\n",
      "  F1_score: 0.8278\n",
      "\n",
      "KNN:\n",
      "  Accuracy: 0.8300\n",
      "  Precision: 0.8306\n",
      "  Recall: 0.8300\n",
      "  F1_score: 0.8280\n",
      "\n",
      "XGBoost:\n",
      "  Accuracy: 0.8450\n",
      "  Precision: 0.8448\n",
      "  Recall: 0.8450\n",
      "  F1_score: 0.8430\n",
      "\n",
      "Best Model Based on Accuracy:\n",
      "  Model Name: XGBoost\n",
      "  Accuracy: 0.8450\n",
      "  Precision: 0.8448\n",
      "  Recall: 0.8450\n",
      "  F1_score: 0.8430\n"
     ]
    },
    {
     "data": {
      "image/png": "[encoded data removed]",
      "text/plain": [
       "<Figure size 800x600 with 2 Axes>"
      ]
     },
     "metadata": {},
     "output_type": "display_data"
    },
    {
     "name": "stdout",
     "output_type": "stream",
     "text": [
      "\n",
      "For data with SMOTE\n",
      "Evaluating models without RFE (all features)... Using SMOTE\n",
      "\n",
      "Baseline Results (Without RFE):\n",
      "\n",
      "Random Forest:\n",
      "  Accuracy: 0.8650\n",
      "  Precision: 0.8627\n",
      "  Recall: 0.8650\n",
      "  F1_score: 0.8623\n",
      "\n",
      "Decision Tree:\n",
      "  Accuracy: 0.8350\n",
      "  Precision: 0.8362\n",
      "  Recall: 0.8350\n",
      "  F1_score: 0.8345\n",
      "\n",
      "SVM:\n",
      "  Accuracy: 0.8500\n",
      "  Precision: 0.8605\n",
      "  Recall: 0.8500\n",
      "  F1_score: 0.8541\n",
      "\n",
      "KNN:\n",
      "  Accuracy: 0.8050\n",
      "  Precision: 0.8310\n",
      "  Recall: 0.8050\n",
      "  F1_score: 0.8174\n",
      "\n",
      "XGBoost:\n",
      "  Accuracy: 0.8750\n",
      "  Precision: 0.8741\n",
      "  Recall: 0.8750\n",
      "  F1_score: 0.8721\n",
      "\n",
      "Best Model Based on Accuracy:\n",
      "  Model Name: XGBoost\n",
      "  Accuracy: 0.8750\n",
      "  Precision: 0.8741\n",
      "  Recall: 0.8750\n",
      "  F1_score: 0.8721\n"
     ]
    },
    {
     "data": {
      "image/png": "[encoded data removed]",
      "text/plain": [
       "<Figure size 800x600 with 2 Axes>"
      ]
     },
     "metadata": {},
     "output_type": "display_data"
    },
    {
     "name": "stdout",
     "output_type": "stream",
     "text": [
      "The best model was trained with SMOTE: XGBoost\n",
      "Accuracy: 0.8750\n"
     ]
    }
   ],
   "source": [
    "print('--- Using Hyperparameter Tuned Classification Models ---')\n",
    "print(\"For data without SMOTE\")\n",
    "# Evaluates hyperparameter tuned classification model using dataset without SMOTE\n",
    "baseline_results_no_smote, best_model_name_no_smote, best_model_metrics_no_smote = evaluate_baseline(\n",
    "    models_hyper_tuned, X_train_scaled, y_train, X_test_scaled, y_test\n",
    ")\n",
    "\n",
    "print(\"\\nFor data with SMOTE\")\n",
    "# Evaluates hyperparameter tuned classification model using dataset with SMOTE\n",
    "baseline_results_smote, best_model_name_smote, best_model_metrics_smote = evaluate_baseline(\n",
    "    models_hyper_tuned, X_train_smote_scaled, y_train_smote, X_test_scaled, y_test, smote=True\n",
    ")\n",
    "\n",
    "# Compare the accuracies of the best models\n",
    "if best_model_metrics_no_smote[\"accuracy\"] > best_model_metrics_smote[\"accuracy\"]:\n",
    "    baseline_results = baseline_results_no_smote\n",
    "    best_model_name = best_model_name_no_smote\n",
    "    best_model_metrics = best_model_metrics_no_smote\n",
    "    print(f\"The best model was trained without SMOTE: {best_model_name}\")\n",
    "    print(f\"Accuracy: {best_model_metrics['accuracy']:.4f}\")\n",
    "else:\n",
    "    baseline_results = baseline_results_smote\n",
    "    best_model_name = best_model_name_smote\n",
    "    best_model_metrics = best_model_metrics_smote\n",
    "    print(f\"The best model was trained with SMOTE: {best_model_name}\")\n",
    "    print(f\"Accuracy: {best_model_metrics['accuracy']:.4f}\")"
   ]
  },
  {
   "cell_type": "markdown",
   "metadata": {
    "id": "HPOVWc55CwAo"
   },
   "source": [
    "## Evaluating Hyperparameter Tuned Classification Models with RFE"
   ]
  },
  {
   "cell_type": "code",
   "execution_count": 38,
   "metadata": {
    "id": "DU13NZm2CwAo",
    "outputId": "bb72c428-fc0d-4a64-bdf0-87080c2a7e2e"
   },
   "outputs": [
    {
     "name": "stdout",
     "output_type": "stream",
     "text": [
      "\n",
      "Evaluating RFE for Model: XGBoost\n",
      "\n",
      "Model: XGBoost\n",
      "Best Number of Features: 19\n",
      "Accuracy with Best Features: 0.8900\n",
      "Selected Features with Importance Scores: {'tempmin': 0.023141792, 'feelslike': 0.13852261, 'dew': 0.1133081, 'humidity': 0.047616098, 'precip': 0.05299959, 'precipprob': 0.12824851, 'precipcover': 0.082659155, 'windgust': 0.018897805, 'windspeed': 0.016690673, 'winddir': 0.013792287, 'sealevelpressure': 0.018142272, 'cloudcover': 0.020571383, 'visibility': 0.013230527, 'solarradiation': 0.014509254, 'solarenergy': 0.015433878, 'uvindex': 0.010273061, 'month_sin': 0.09604357, 'month_cos': 0.049710866, 'daylight_hours': 0.12620859}\n",
      "\n",
      "Confusion Matrix for XGBoost with Best Features:\n"
     ]
    },
    {
     "data": {
      "image/png": "[encoded data removed]",
      "text/plain": [
       "<Figure size 800x600 with 2 Axes>"
      ]
     },
     "metadata": {},
     "output_type": "display_data"
    }
   ],
   "source": [
    "best_no_features, selected_features, selected_feature_importances, best_accuracy = evaluate_rfe(\n",
    "    models_hyper_tuned[best_model_name], best_model_name, X_train_smote_scaled, y_train_smote, X_test_scaled, y_test\n",
    ")"
   ]
  }
 ],
 "metadata": {
  "colab": {
   "provenance": []
  },
  "kernelspec": {
   "display_name": "base",
   "language": "python",
   "name": "python3"
  },
  "language_info": {
   "codemirror_mode": {
    "name": "ipython",
    "version": 3
   },
   "file_extension": ".py",
   "mimetype": "text/x-python",
   "name": "python",
   "nbconvert_exporter": "python",
   "pygments_lexer": "ipython3",
   "version": "3.12.4"
  }
 },
 "nbformat": 4,
 "nbformat_minor": 0
}
